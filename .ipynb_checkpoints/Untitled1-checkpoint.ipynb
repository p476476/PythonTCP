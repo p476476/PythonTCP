{
 "cells": [
  {
   "cell_type": "code",
   "execution_count": null,
   "metadata": {},
   "outputs": [
    {
     "name": "stdout",
     "output_type": "stream",
     "text": [
      "Cannot connect to server.\n",
      "Cannot connect to server.\n",
      "Cannot connect to server.\n",
      "Cannot connect to server.\n"
     ]
    }
   ],
   "source": [
    "from socket import socket, AF_INET, SOCK_STREAM\n",
    "import time\n",
    "\n",
    "s = socket(AF_INET, SOCK_STREAM)\n",
    "s.settimeout(5)\n",
    "\n",
    "while(True):\n",
    "    try:\n",
    "        s.connect(('localhost', 20000))\n",
    "    except:\n",
    "        print(\"Cannot connect to server.\")  \n",
    "        time.sleep(1)\n",
    "\n",
    "for i in range(10):\n",
    "    s.send(b'Hello')\n",
    "    recvstr = s.recv(8192)\n",
    "    print(recvstr)"
   ]
  }
 ],
 "metadata": {
  "kernelspec": {
   "display_name": "Python 3",
   "language": "python",
   "name": "python3"
  },
  "language_info": {
   "codemirror_mode": {
    "name": "ipython",
    "version": 3
   },
   "file_extension": ".py",
   "mimetype": "text/x-python",
   "name": "python",
   "nbconvert_exporter": "python",
   "pygments_lexer": "ipython3",
   "version": "3.6.3"
  }
 },
 "nbformat": 4,
 "nbformat_minor": 2
}

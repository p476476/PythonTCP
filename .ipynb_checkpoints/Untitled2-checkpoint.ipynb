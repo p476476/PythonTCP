{
 "cells": [
  {
   "cell_type": "code",
   "execution_count": 1,
   "metadata": {
    "collapsed": true
   },
   "outputs": [],
   "source": [
    "import socket\n",
    "import threading\n",
    "\n",
    "class SocketServer(socket.socket):\n",
    "    clients = []\n",
    "\n",
    "    def __init__(self,IP = '0.0.0.0',PORT='5566'):\n",
    "        socket.socket.__init__(self)\n",
    "        #To silence- address occupied!!\n",
    "        self.setsockopt(socket.SOL_SOCKET, socket.SO_REUSEADDR, 1)\n",
    "        self.bind((IP, PORT))\n",
    "        self.listen(5)\n",
    "\n",
    "    def run(self):\n",
    "        print (\"Server started\")\n",
    "        try:\n",
    "            self.accept_clients()\n",
    "        except Exception as ex:\n",
    "            print (ex)\n",
    "        finally:\n",
    "            print (\"Server closed\")\n",
    "            for client in self.clients:\n",
    "                client.close()\n",
    "            self.close()\n",
    "\n",
    "    def accept_clients(self):\n",
    "        while 1:\n",
    "            (clientsocket, address) = self.accept()\n",
    "            #Adding client to clients list\n",
    "            self.clients.append(clientsocket)\n",
    "            #Client Connected\n",
    "            self.onopen(clientsocket)\n",
    "            #Receiving data from client\n",
    "            threading.Thread(self.recieve, (clientsocket,)).start()\n",
    "\n",
    "    def recieve(self, client):\n",
    "        while 1:\n",
    "            data = client.recv(1024)\n",
    "            if data == '':\n",
    "                break\n",
    "            #Message Received\n",
    "            self.onmessage(client, data)\n",
    "        #Removing client from clients list\n",
    "        self.clients.remove(client)\n",
    "        #Client Disconnected\n",
    "        self.onclose(client)\n",
    "        #Closing connection with client\n",
    "        client.close()\n",
    "        #Closing thread\n",
    "        threading.exit()\n",
    "        print (self.clients)\n",
    "\n",
    "    def broadcast(self, message):\n",
    "        #Sending message to all clients\n",
    "        for client in self.clients:\n",
    "            client.send(message)\n",
    "\n",
    "    def onopen(self, client):\n",
    "        pass\n",
    "\n",
    "    def onmessage(self, client, message):\n",
    "        pass\n",
    "\n",
    "    def onclose(self, client):\n",
    "        pass"
   ]
  },
  {
   "cell_type": "code",
   "execution_count": null,
   "metadata": {
    "collapsed": true
   },
   "outputs": [],
   "source": []
  }
 ],
 "metadata": {
  "kernelspec": {
   "display_name": "Python 3",
   "language": "python",
   "name": "python3"
  },
  "language_info": {
   "codemirror_mode": {
    "name": "ipython",
    "version": 3
   },
   "file_extension": ".py",
   "mimetype": "text/x-python",
   "name": "python",
   "nbconvert_exporter": "python",
   "pygments_lexer": "ipython3",
   "version": "3.6.3"
  }
 },
 "nbformat": 4,
 "nbformat_minor": 2
}

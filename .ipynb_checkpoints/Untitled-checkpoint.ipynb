{
 "cells": [
  {
   "cell_type": "markdown",
   "metadata": {},
   "source": [
    "# this is a simple tcp client test:"
   ]
  },
  {
   "cell_type": "code",
   "execution_count": 2,
   "metadata": {},
   "outputs": [
    {
     "name": "stdout",
     "output_type": "stream",
     "text": [
      "1520580925.3902178\n"
     ]
    }
   ],
   "source": [
    "import time\n",
    "print(time.time())"
   ]
  },
  {
   "cell_type": "code",
   "execution_count": 18,
   "metadata": {},
   "outputs": [
    {
     "name": "stdout",
     "output_type": "stream",
     "text": [
      "b'Fri Mar 09 18:48:25 2018'\n",
      "b'Hi Rem'\n"
     ]
    }
   ],
   "source": [
    "from socket import socket, AF_INET, SOCK_STREAM\n",
    "import time\n",
    "\n",
    "s = socket(AF_INET, SOCK_STREAM)\n",
    "\n",
    "# while(True):\n",
    "#     try:\n",
    "#         s.connect(('localhost', 5566))\n",
    "#     except:\n",
    "#         print(\"Cannot connect to server.\")  \n",
    "#         time.sleep(1)\n",
    "s.connect(('localhost', 5566))\n",
    "s.send(b'what time,')\n",
    "recvstr = s.recv(8192)\n",
    "print(recvstr)\n",
    "s.send(b'my name is,Rem')\n",
    "recvstr = s.recv(8192)\n",
    "print(recvstr)"
   ]
  },
  {
   "cell_type": "code",
   "execution_count": 19,
   "metadata": {},
   "outputs": [
    {
     "data": {
      "text/plain": [
       "10"
      ]
     },
     "execution_count": 19,
     "metadata": {},
     "output_type": "execute_result"
    }
   ],
   "source": [
    "s.send(b'disconnect,')"
   ]
  },
  {
   "cell_type": "code",
   "execution_count": 21,
   "metadata": {},
   "outputs": [
    {
     "name": "stdout",
     "output_type": "stream",
     "text": [
      "b''\n"
     ]
    }
   ],
   "source": [
    "recvstr = s.recv(8192)\n",
    "print(recvstr)\n"
   ]
  },
  {
   "cell_type": "code",
   "execution_count": 23,
   "metadata": {},
   "outputs": [
    {
     "ename": "SyntaxError",
     "evalue": "invalid syntax (<ipython-input-23-b1ebd9bc0ab7>, line 32)",
     "output_type": "error",
     "traceback": [
      "\u001b[1;36m  File \u001b[1;32m\"<ipython-input-23-b1ebd9bc0ab7>\"\u001b[1;36m, line \u001b[1;32m32\u001b[0m\n\u001b[1;33m    def send(string)\u001b[0m\n\u001b[1;37m                    ^\u001b[0m\n\u001b[1;31mSyntaxError\u001b[0m\u001b[1;31m:\u001b[0m invalid syntax\n"
     ]
    }
   ],
   "source": [
    "import socket\n",
    "import threading\n",
    "import time\n",
    "class SocketClient(socket.socket):\n",
    "    serversocket=''\n",
    "    recv_thread=''\n",
    "    \n",
    "#     =====================\n",
    "#     HERE IS SERVER INIT\n",
    "#     =====================    \n",
    "    def __init__(self):\n",
    "        serversocket= socket(AF_INET, SOCK_STREAM)\n",
    "        \n",
    "    def recieve(self, server):\n",
    "        while 1:\n",
    "            recvstr = s.recv(8192)\n",
    "            print(recvstr)\n",
    "\n",
    "        self.disconnect(client)\n",
    "\n",
    "    def run(self):\n",
    "        print (\"Client started\")\n",
    "        try:\n",
    "            server.connect(('localhost', 5566))\n",
    "            self.onconnect()\n",
    "            threading.Thread(target=self.recieve,args=(new_client,)).start()\n",
    "        except Exception as ex:\n",
    "            print (ex)\n",
    "        finally:\n",
    "            pass\n",
    "        \n",
    "    def send(string):\n",
    "        serversocket.send(str.encode(string)) \n",
    "        \n",
    "    def getTime(string):\n",
    "        serversocket.send(b'what time,')\n",
    "        \n",
    "    def disconnect(self):\n",
    "        self.onclose(client)\n",
    "        #Closing connection with client\n",
    "        serversocket.close()\n",
    "        #Closing thread\n",
    "        if(recv_thread!=None):\n",
    "            recv_thread.exit()\n",
    "            \n",
    "    # ===================\n",
    "    # SOME EVENT FUNCTION\n",
    "    # ===================\n",
    "    def onconnect(self, client):\n",
    "        print (\"SUCCESS Connect to server\")\n",
    "\n",
    "    def onmessage(self, client, message):\n",
    "        print (\"Got message \",message)\n",
    "        \n",
    "    def onclose(self, client):\n",
    "        print (\"Disconnected\")"
   ]
  },
  {
   "cell_type": "code",
   "execution_count": null,
   "metadata": {
    "collapsed": true
   },
   "outputs": [],
   "source": []
  }
 ],
 "metadata": {
  "kernelspec": {
   "display_name": "Python 3",
   "language": "python",
   "name": "python3"
  },
  "language_info": {
   "codemirror_mode": {
    "name": "ipython",
    "version": 3
   },
   "file_extension": ".py",
   "mimetype": "text/x-python",
   "name": "python",
   "nbconvert_exporter": "python",
   "pygments_lexer": "ipython3",
   "version": "3.6.3"
  }
 },
 "nbformat": 4,
 "nbformat_minor": 2
}
